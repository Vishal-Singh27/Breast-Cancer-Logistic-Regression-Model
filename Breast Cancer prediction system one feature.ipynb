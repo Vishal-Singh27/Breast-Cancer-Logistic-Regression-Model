{
 "cells": [
  {
   "metadata": {},
   "cell_type": "markdown",
   "source": [
    "# Breast Cancer Prediction System\n",
    "This is my project where I will make a Logistic Regression model, train it data of sckit breast cancer dataset and then the model could predict if a tumor is manignant or benign.\n",
    "**This version can only support one feature**"
   ],
   "id": "fdb8350fa478d02c"
  },
  {
   "metadata": {},
   "cell_type": "markdown",
   "source": "Lets start by importing the Packages we gonna use",
   "id": "729fca1abe0c533"
  },
  {
   "metadata": {
    "ExecuteTime": {
     "end_time": "2025-04-09T13:02:00.753155Z",
     "start_time": "2025-04-09T13:02:00.748621Z"
    }
   },
   "cell_type": "code",
   "source": [
    "import matplotlib.pyplot as plt\n",
    "import numpy as np"
   ],
   "id": "8f202c3c12236c39",
   "outputs": [],
   "execution_count": 47
  },
  {
   "metadata": {},
   "cell_type": "markdown",
   "source": "Now making the dataset",
   "id": "c307d84a5f27e6ea"
  },
  {
   "metadata": {
    "ExecuteTime": {
     "end_time": "2025-04-09T13:02:00.779354Z",
     "start_time": "2025-04-09T13:02:00.777567Z"
    }
   },
   "cell_type": "code",
   "source": [
    "x = np.array([1, 2, 3, 4, 5])\n",
    "y = np.array([1, 1, 1, 0, 0])"
   ],
   "id": "aa75d581054e489d",
   "outputs": [],
   "execution_count": 48
  },
  {
   "metadata": {},
   "cell_type": "markdown",
   "source": "Okay now lets make our logistic regression model",
   "id": "b1d66036601f2b5b"
  },
  {
   "metadata": {
    "ExecuteTime": {
     "end_time": "2025-04-09T13:02:00.802742Z",
     "start_time": "2025-04-09T13:02:00.800845Z"
    }
   },
   "cell_type": "code",
   "source": [
    "def sigmoid(x, w, b):\n",
    "    z = (x * w) + b\n",
    "    z = np.clip(z, -500, 500)\n",
    "    return 1 / (1 + np.exp(-z))"
   ],
   "id": "661fbf2d2eb904de",
   "outputs": [],
   "execution_count": 50
  },
  {
   "metadata": {},
   "cell_type": "markdown",
   "source": "Now Cost function",
   "id": "5ceea50d32fba0ad"
  },
  {
   "metadata": {
    "ExecuteTime": {
     "end_time": "2025-04-09T13:02:00.814769Z",
     "start_time": "2025-04-09T13:02:00.812663Z"
    }
   },
   "cell_type": "code",
   "source": [
    "def compute_cost(x, y, w, b):\n",
    "    m = x.shape[0]\n",
    "    cost = 0\n",
    "    for i in range(m):\n",
    "        cost += (sigmoid(x[i], w, b) - y[i]) ** 2\n",
    "\n",
    "    return cost / (2 * m)"
   ],
   "id": "5b6107de752ba12e",
   "outputs": [],
   "execution_count": 51
  },
  {
   "metadata": {},
   "cell_type": "markdown",
   "source": "Now lets take care of gradient descent",
   "id": "ac278286bb40e828"
  },
  {
   "metadata": {
    "ExecuteTime": {
     "end_time": "2025-04-09T13:02:00.825653Z",
     "start_time": "2025-04-09T13:02:00.823554Z"
    }
   },
   "cell_type": "code",
   "source": [
    "def gradient_descent(x, y, initial_w, initial_b, alpha, iterations):\n",
    "    # First lets calculate dj_dw and dj_db\n",
    "    m = x.shape[0]\n",
    "\n",
    "    w, b = initial_w, initial_b\n",
    "\n",
    "    for iteration in range(iterations):\n",
    "        dj_dw = 0\n",
    "        dj_db = 0\n",
    "\n",
    "        for i in range(m):\n",
    "            cost = sigmoid(x[i], w, b) - y[i]\n",
    "\n",
    "            dj_dw += cost * x[i]\n",
    "            dj_db += cost\n",
    "\n",
    "        dj_dw, dj_db = dj_dw / m, dj_db / m\n",
    "\n",
    "        w -= alpha * dj_dw\n",
    "        b -= alpha * dj_db\n",
    "\n",
    "    return w, b"
   ],
   "id": "2b7a6c702814d10",
   "outputs": [],
   "execution_count": 52
  },
  {
   "metadata": {},
   "cell_type": "markdown",
   "source": "Wohooo! Gradient descent is implemented, now lets visualize stuff",
   "id": "ae9cd3899d8e2db6"
  },
  {
   "metadata": {
    "ExecuteTime": {
     "end_time": "2025-04-09T13:02:00.970277Z",
     "start_time": "2025-04-09T13:02:00.834302Z"
    }
   },
   "cell_type": "code",
   "source": [
    "# Training the model\n",
    "w, b = gradient_descent(x, y, 0, 0, 0.001, 10000)"
   ],
   "id": "5fcdd2ea970a4427",
   "outputs": [],
   "execution_count": 53
  },
  {
   "metadata": {
    "ExecuteTime": {
     "end_time": "2025-04-09T13:02:00.982835Z",
     "start_time": "2025-04-09T13:02:00.979425Z"
    }
   },
   "cell_type": "code",
   "source": [
    "m = x.shape[0]\n",
    "y_hat = np.zeros(m)\n",
    "\n",
    "for i in range(m):\n",
    "    y_hat[i] = sigmoid(x[i], w, b)"
   ],
   "id": "d09efc605a798f7b",
   "outputs": [],
   "execution_count": 54
  },
  {
   "metadata": {
    "ExecuteTime": {
     "end_time": "2025-04-09T13:02:00.991972Z",
     "start_time": "2025-04-09T13:02:00.990299Z"
    }
   },
   "cell_type": "code",
   "source": "",
   "id": "a13cab7c8c1d55d6",
   "outputs": [],
   "execution_count": null
  },
  {
   "metadata": {
    "ExecuteTime": {
     "end_time": "2025-04-09T13:08:39.027048Z",
     "start_time": "2025-04-09T13:08:38.964256Z"
    }
   },
   "cell_type": "code",
   "source": [
    "plt.scatter(x, y)\n",
    "y_pred = (y_hat >= 0.5).astype(int)\n",
    "plt.plot(x, y_pred)\n"
   ],
   "id": "ac5a05d9004f38bb",
   "outputs": [
    {
     "data": {
      "text/plain": [
       "[<matplotlib.lines.Line2D at 0x110b7e960>]"
      ]
     },
     "execution_count": 59,
     "metadata": {},
     "output_type": "execute_result"
    },
    {
     "data": {
      "text/plain": [
       "<Figure size 640x480 with 1 Axes>"
      ],
      "image/png": "[encoded data removed]"
     },
     "metadata": {},
     "output_type": "display_data"
    }
   ],
   "execution_count": 59
  },
  {
   "metadata": {},
   "cell_type": "markdown",
   "source": "Priting the accuracy",
   "id": "1928e6322c5b798d"
  },
  {
   "metadata": {
    "ExecuteTime": {
     "end_time": "2025-04-09T13:14:43.581820Z",
     "start_time": "2025-04-09T13:14:43.572122Z"
    }
   },
   "cell_type": "code",
   "source": [
    "accuracy = np.mean(y_pred == y)\n",
    "print(f\"Accuracy: {accuracy * 100:.2f}\")"
   ],
   "id": "197cb5db508c61f0",
   "outputs": [
    {
     "name": "stdout",
     "output_type": "stream",
     "text": [
      "Accuracy: 80.00\n"
     ]
    }
   ],
   "execution_count": 61
  }
 ],
 "metadata": {
  "kernelspec": {
   "display_name": "Python 3",
   "language": "python",
   "name": "python3"
  },
  "language_info": {
   "codemirror_mode": {
    "name": "ipython",
    "version": 2
   },
   "file_extension": ".py",
   "mimetype": "text/x-python",
   "name": "python",
   "nbconvert_exporter": "python",
   "pygments_lexer": "ipython2",
   "version": "2.7.6"
  }
 },
 "nbformat": 4,
 "nbformat_minor": 5
}
